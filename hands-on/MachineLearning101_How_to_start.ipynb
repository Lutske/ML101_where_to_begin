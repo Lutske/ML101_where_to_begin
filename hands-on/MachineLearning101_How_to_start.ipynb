{
  "metadata": {
    "language_info": {
      "name": ""
    },
    "kernelspec": {
      "name": "python",
      "display_name": "Python (Pyodide)",
      "language": "python"
    }
  },
  "nbformat_minor": 4,
  "nbformat": 4,
  "cells": [
    {
      "cell_type": "markdown",
      "source": "# Machine Learning 101: How to start?\n\nSo let's get started with some hands on machine learning!\n\n\nFirst thing first. Let's install some packages. Select the next code block and press enter to execute. \nNo need to install anything on your own laptop. It's all in the cloud ;) \n\nWe are going to use python. Most of the code block will be pre-filled. So no worries if you're not an python expert. When you have any questions. Don't hesitate to ask!\n",
      "metadata": {
        "slideshow": {
          "slide_type": "slide"
        },
        "tags": []
      }
    },
    {
      "cell_type": "code",
      "source": "pip install pandas numpy matplotlib scikit-learn jupyter",
      "metadata": {
        "trusted": true
      },
      "execution_count": null,
      "outputs": []
    },
    {
      "cell_type": "markdown",
      "source": "Once you've installed these packages, you're ready to start working with machine learning in Jupyter Notebook.\n\nLet's start by importing the packages we'll be using:",
      "metadata": {}
    },
    {
      "cell_type": "code",
      "source": "import pandas as pd\nimport numpy as np\nimport matplotlib.pyplot as plt\nfrom sklearn.linear_model import LinearRegression\nfrom sklearn.model_selection import train_test_split\n",
      "metadata": {
        "trusted": true
      },
      "execution_count": null,
      "outputs": []
    },
    {
      "cell_type": "markdown",
      "source": "Next, let's load in a dataset. We will start with some text driven data. For this example, we'll use the Boston Housing dataset from scikit-learn. \n\nYou can load the dataset using the following code:",
      "metadata": {}
    },
    {
      "cell_type": "code",
      "source": "from sklearn.datasets import load_boston\n\nboston = load_boston()\ndf = pd.DataFrame(boston.data, columns=boston.feature_names)\ndf['MEDV'] = boston.target\n",
      "metadata": {
        "trusted": true
      },
      "execution_count": null,
      "outputs": []
    },
    {
      "cell_type": "markdown",
      "source": "This code will load the Boston Housing dataset into a pandas DataFrame called df. The dataset has 13 features and a target variable called MEDV, which represents the median value of owner-occupied homes in $1000s.\n\nLet's take a look at the first few rows of the dataset:",
      "metadata": {}
    },
    {
      "cell_type": "code",
      "source": "df.head()",
      "metadata": {
        "trusted": true
      },
      "execution_count": null,
      "outputs": []
    },
    {
      "cell_type": "code",
      "source": "",
      "metadata": {},
      "execution_count": null,
      "outputs": []
    }
  ]
}